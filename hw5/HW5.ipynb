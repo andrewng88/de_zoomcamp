{
 "cells": [
  {
   "cell_type": "code",
   "execution_count": 1,
   "id": "2397bce3",
   "metadata": {},
   "outputs": [],
   "source": [
    "import pyspark\n",
    "from pyspark.sql import SparkSession\n",
    "from pyspark.sql import types\n",
    "import pyspark.sql.functions as F"
   ]
  },
  {
   "cell_type": "markdown",
   "id": "a67209b0",
   "metadata": {},
   "source": [
    "## Q1 Answer '3.3.2'"
   ]
  },
  {
   "cell_type": "code",
   "execution_count": 2,
   "id": "5247b974",
   "metadata": {},
   "outputs": [
    {
     "name": "stdout",
     "output_type": "stream",
     "text": [
      "3.3.2\n"
     ]
    }
   ],
   "source": [
    "print(pyspark.__version__)"
   ]
  },
  {
   "cell_type": "code",
   "execution_count": 3,
   "id": "e5b6135e",
   "metadata": {},
   "outputs": [
    {
     "data": {
      "text/plain": [
       "'/home/andrew/spark/spark-3.3.2-bin-hadoop3/python/pyspark/__init__.py'"
      ]
     },
     "execution_count": 3,
     "metadata": {},
     "output_type": "execute_result"
    }
   ],
   "source": [
    "pyspark.__file__"
   ]
  },
  {
   "cell_type": "code",
   "execution_count": 4,
   "id": "d8069fc5",
   "metadata": {},
   "outputs": [],
   "source": [
    "fhv_schema = types.StructType([\n",
    "    types.StructField('dispatching_base_num', types.StringType(), True),\n",
    "    types.StructField(\"pickup_datetime\", types.TimestampType(), True),\n",
    "    types.StructField(\"dropoff_datetime\", types.TimestampType(), True),\n",
    "    types.StructField(\"PULocationID\", types.IntegerType(), True),\n",
    "    types.StructField(\"DOLocationID\", types.IntegerType(), True),\n",
    "    types.StructField(\"SR_Flag\", types.StringType(), True),\n",
    "    types.StructField('Affiliated_base_number', types.StringType(), True),\n",
    "])"
   ]
  },
  {
   "cell_type": "code",
   "execution_count": 5,
   "id": "07084952",
   "metadata": {},
   "outputs": [
    {
     "name": "stderr",
     "output_type": "stream",
     "text": [
      "Setting default log level to \"WARN\".\n",
      "To adjust logging level use sc.setLogLevel(newLevel). For SparkR, use setLogLevel(newLevel).\n"
     ]
    },
    {
     "name": "stdout",
     "output_type": "stream",
     "text": [
      "24/02/23 02:14:56 WARN NativeCodeLoader: Unable to load native-hadoop library for your platform... using builtin-java classes where applicable\n"
     ]
    },
    {
     "name": "stderr",
     "output_type": "stream",
     "text": [
      "\r",
      "[Stage 0:>                                                          (0 + 1) / 1]\r",
      "\r",
      "                                                                                \r"
     ]
    },
    {
     "name": "stdout",
     "output_type": "stream",
     "text": [
      "+--------------------+-------------------+-------------------+------------+------------+-------+----------------------+\n",
      "|dispatching_base_num|    pickup_datetime|   dropoff_datetime|PULocationID|DOLocationID|SR_Flag|Affiliated_base_number|\n",
      "+--------------------+-------------------+-------------------+------------+------------+-------+----------------------+\n",
      "|              B00009|2019-10-01 00:23:00|2019-10-01 00:35:00|         264|         264|   null|                B00009|\n",
      "|              B00013|2019-10-01 00:11:29|2019-10-01 00:13:22|         264|         264|   null|                B00013|\n",
      "|              B00014|2019-10-01 00:11:43|2019-10-01 00:37:20|         264|         264|   null|                B00014|\n",
      "|              B00014|2019-10-01 00:56:29|2019-10-01 00:57:47|         264|         264|   null|                B00014|\n",
      "|              B00014|2019-10-01 00:23:09|2019-10-01 00:28:27|         264|         264|   null|                B00014|\n",
      "+--------------------+-------------------+-------------------+------------+------------+-------+----------------------+\n",
      "only showing top 5 rows\n",
      "\n"
     ]
    }
   ],
   "source": [
    "spark = SparkSession.builder \\\n",
    "    .master(\"local[*]\") \\\n",
    "    .appName('test') \\\n",
    "    .getOrCreate()\n",
    "\n",
    "df = spark.read \\\n",
    "    .option(\"header\", \"true\") \\\n",
    "    .schema(fhv_schema) \\\n",
    "    .csv('fhv_tripdata_2019-10.csv')\n",
    "\n",
    "df.show(5)"
   ]
  },
  {
   "cell_type": "code",
   "execution_count": 6,
   "id": "4cdd692a",
   "metadata": {},
   "outputs": [
    {
     "name": "stderr",
     "output_type": "stream",
     "text": [
      "                                                                                \r"
     ]
    }
   ],
   "source": [
    "df \\\n",
    "    .repartition(6) \\\n",
    "    .write.parquet('fhv')"
   ]
  },
  {
   "cell_type": "markdown",
   "id": "95d625c2",
   "metadata": {},
   "source": [
    "### Q2 Answer 6M"
   ]
  },
  {
   "cell_type": "code",
   "execution_count": 7,
   "id": "a1950a93",
   "metadata": {},
   "outputs": [
    {
     "name": "stdout",
     "output_type": "stream",
     "text": [
      "total 37M\r\n",
      "-rw-r--r-- 1 andrew andrew    0 Feb 23 02:15 _SUCCESS\r\n",
      "-rw-r--r-- 1 andrew andrew 6.2M Feb 23 02:15 part-00000-5917e3ce-245b-4bf4-a3e1-5687a3c628f8-c000.snappy.parquet\r\n",
      "-rw-r--r-- 1 andrew andrew 6.2M Feb 23 02:15 part-00001-5917e3ce-245b-4bf4-a3e1-5687a3c628f8-c000.snappy.parquet\r\n",
      "-rw-r--r-- 1 andrew andrew 6.2M Feb 23 02:15 part-00002-5917e3ce-245b-4bf4-a3e1-5687a3c628f8-c000.snappy.parquet\r\n",
      "-rw-r--r-- 1 andrew andrew 6.2M Feb 23 02:15 part-00003-5917e3ce-245b-4bf4-a3e1-5687a3c628f8-c000.snappy.parquet\r\n",
      "-rw-r--r-- 1 andrew andrew 6.2M Feb 23 02:15 part-00004-5917e3ce-245b-4bf4-a3e1-5687a3c628f8-c000.snappy.parquet\r\n",
      "-rw-r--r-- 1 andrew andrew 6.2M Feb 23 02:15 part-00005-5917e3ce-245b-4bf4-a3e1-5687a3c628f8-c000.snappy.parquet\r\n"
     ]
    }
   ],
   "source": [
    "!ls fhv -lh"
   ]
  },
  {
   "cell_type": "markdown",
   "id": "bcbd864f",
   "metadata": {},
   "source": [
    "### Q2 Answer 62610"
   ]
  },
  {
   "cell_type": "code",
   "execution_count": 8,
   "id": "0753abfa",
   "metadata": {},
   "outputs": [
    {
     "name": "stderr",
     "output_type": "stream",
     "text": [
      "\r",
      "[Stage 4:>                                                          (0 + 4) / 4]\r"
     ]
    },
    {
     "name": "stdout",
     "output_type": "stream",
     "text": [
      "62610\n"
     ]
    },
    {
     "name": "stderr",
     "output_type": "stream",
     "text": [
      "\r",
      "[Stage 4:==============>                                            (1 + 3) / 4]\r",
      "\r",
      "                                                                                \r"
     ]
    }
   ],
   "source": [
    "# Filter for pickup_datetime on 15th October 2019\n",
    "filtered_df = df.filter(F.col(\"pickup_datetime\").cast(\"date\") == \"2019-10-15\")\n",
    "\n",
    "# Count the number of rows\n",
    "row_count = filtered_df.count()\n",
    "\n",
    "print(row_count)"
   ]
  },
  {
   "cell_type": "markdown",
   "id": "3ef30e03",
   "metadata": {},
   "source": [
    "### Q3 Answer 631,152.5"
   ]
  },
  {
   "cell_type": "code",
   "execution_count": 9,
   "id": "21a01923",
   "metadata": {},
   "outputs": [
    {
     "name": "stderr",
     "output_type": "stream",
     "text": [
      "[Stage 7:==============>                                            (1 + 3) / 4]\r"
     ]
    },
    {
     "name": "stdout",
     "output_type": "stream",
     "text": [
      "Max trip time in hours : 631152.5\n"
     ]
    },
    {
     "name": "stderr",
     "output_type": "stream",
     "text": [
      "\r",
      "                                                                                \r"
     ]
    }
   ],
   "source": [
    "# Calculate trip time in hours and name it as 'trip_time_hours'\n",
    "df_with_trip_time = df.withColumn(\"trip_time_seconds\", \n",
    "                                  (F.unix_timestamp(F.col(\"dropoff_datetime\")) - F.unix_timestamp(F.col(\"pickup_datetime\")))) \\\n",
    "                      .withColumn(\"trip_time_hours\", F.col(\"trip_time_seconds\") / 3600)\n",
    "\n",
    "# Get the maximum trip time\n",
    "max_trip_time = df_with_trip_time.agg(F.max(F.col(\"trip_time_hours\"))).collect()[0][0]\n",
    "\n",
    "print(\"Max trip time in hours :\", max_trip_time)"
   ]
  },
  {
   "cell_type": "code",
   "execution_count": 10,
   "id": "daba942d",
   "metadata": {},
   "outputs": [
    {
     "name": "stderr",
     "output_type": "stream",
     "text": [
      "[Stage 10:==============>                                           (1 + 3) / 4]\r"
     ]
    },
    {
     "name": "stdout",
     "output_type": "stream",
     "text": [
      "+--------------------+-------------------+-------------------+------------+------------+-------+----------------------+-----------------+-----------------+\n",
      "|dispatching_base_num|    pickup_datetime|   dropoff_datetime|PULocationID|DOLocationID|SR_Flag|Affiliated_base_number|trip_time_seconds|  trip_time_hours|\n",
      "+--------------------+-------------------+-------------------+------------+------------+-------+----------------------+-----------------+-----------------+\n",
      "|              B02832|2019-10-28 09:00:00|2091-10-28 09:30:00|         264|         264|   null|                B02832|       2272149000|         631152.5|\n",
      "|              B02832|2019-10-11 18:00:00|2091-10-11 18:30:00|         264|         264|   null|                B02832|       2272149000|         631152.5|\n",
      "|              B02416|2019-10-31 23:46:33|2029-11-01 00:13:00|        null|        null|   null|                B02416|        315620787|87672.44083333333|\n",
      "+--------------------+-------------------+-------------------+------------+------------+-------+----------------------+-----------------+-----------------+\n",
      "only showing top 3 rows\n",
      "\n"
     ]
    },
    {
     "name": "stderr",
     "output_type": "stream",
     "text": [
      "\r",
      "                                                                                \r"
     ]
    }
   ],
   "source": [
    "#sanity check\n",
    "df_with_trip_time.orderBy(F.col(\"trip_time_hours\").desc()).show(3)"
   ]
  },
  {
   "cell_type": "markdown",
   "id": "d8d2e5e1",
   "metadata": {},
   "source": [
    "### HW 5 A : port 4040"
   ]
  },
  {
   "cell_type": "markdown",
   "id": "eb02dd62",
   "metadata": {},
   "source": [
    "![alt text](https://i.imgur.com/LFroEn2.png \"Title\")\n"
   ]
  },
  {
   "cell_type": "markdown",
   "id": "4a8b1f8e",
   "metadata": {},
   "source": [
    "### HW 6 A : Jamaica Bay"
   ]
  },
  {
   "cell_type": "code",
   "execution_count": 11,
   "id": "495caa97",
   "metadata": {},
   "outputs": [
    {
     "name": "stdout",
     "output_type": "stream",
     "text": [
      "HW5.ipynb  fhv_tripdata_2019-10.csv  taxi+_zone_lookup.csv  zones\r\n",
      "fhv\t   spark-warehouse\t     taxi_zone_lookup.csv\r\n"
     ]
    }
   ],
   "source": [
    "!ls"
   ]
  },
  {
   "cell_type": "code",
   "execution_count": 12,
   "id": "98778691",
   "metadata": {
    "scrolled": true
   },
   "outputs": [
    {
     "name": "stdout",
     "output_type": "stream",
     "text": [
      "+----------+-------------+--------------------+------------+\n",
      "|LocationID|      Borough|                Zone|service_zone|\n",
      "+----------+-------------+--------------------+------------+\n",
      "|         1|          EWR|      Newark Airport|         EWR|\n",
      "|         2|       Queens|         Jamaica Bay|   Boro Zone|\n",
      "|         3|        Bronx|Allerton/Pelham G...|   Boro Zone|\n",
      "|         4|    Manhattan|       Alphabet City| Yellow Zone|\n",
      "|         5|Staten Island|       Arden Heights|   Boro Zone|\n",
      "+----------+-------------+--------------------+------------+\n",
      "only showing top 5 rows\n",
      "\n"
     ]
    }
   ],
   "source": [
    "df_zones = spark.read \\\n",
    "    .option(\"header\", \"true\") \\\n",
    "    .csv('taxi_zone_lookup.csv')\n",
    "\n",
    "df_zones.show(5)"
   ]
  },
  {
   "cell_type": "code",
   "execution_count": 13,
   "id": "42fc8ceb",
   "metadata": {},
   "outputs": [
    {
     "name": "stdout",
     "output_type": "stream",
     "text": [
      "root\n",
      " |-- LocationID: string (nullable = true)\n",
      " |-- Borough: string (nullable = true)\n",
      " |-- Zone: string (nullable = true)\n",
      " |-- service_zone: string (nullable = true)\n",
      "\n"
     ]
    }
   ],
   "source": [
    "df_zones.printSchema()"
   ]
  },
  {
   "cell_type": "code",
   "execution_count": 14,
   "id": "40bbbbbc",
   "metadata": {},
   "outputs": [],
   "source": [
    "df_zones.createOrReplaceTempView('zones_table')"
   ]
  },
  {
   "cell_type": "code",
   "execution_count": 15,
   "id": "cc5f443a",
   "metadata": {},
   "outputs": [],
   "source": [
    "df.createOrReplaceTempView('fhv')"
   ]
  },
  {
   "cell_type": "code",
   "execution_count": 16,
   "id": "fc9abd8f",
   "metadata": {},
   "outputs": [
    {
     "name": "stderr",
     "output_type": "stream",
     "text": [
      "[Stage 14:=============================>                            (2 + 2) / 4]\r"
     ]
    },
    {
     "name": "stdout",
     "output_type": "stream",
     "text": [
      "+--------------------+------------+\n",
      "|                Zone|pickup_count|\n",
      "+--------------------+------------+\n",
      "|         Jamaica Bay|           1|\n",
      "|Governor's Island...|           2|\n",
      "| Green-Wood Cemetery|           5|\n",
      "|       Broad Channel|           8|\n",
      "|     Highbridge Park|          14|\n",
      "+--------------------+------------+\n",
      "\n"
     ]
    },
    {
     "name": "stderr",
     "output_type": "stream",
     "text": [
      "\r",
      "                                                                                \r"
     ]
    }
   ],
   "source": [
    "spark.sql(\"\"\"\n",
    "SELECT z.Zone, COUNT(*) AS pickup_count\n",
    "FROM fhv f\n",
    "JOIN zones_table z ON f.PULocationID = z.LocationID\n",
    "GROUP BY z.Zone\n",
    "ORDER BY pickup_count ASC\n",
    "LIMIT 5;\n",
    "\"\"\").show()"
   ]
  }
 ],
 "metadata": {
  "kernelspec": {
   "display_name": "Python 3 (ipykernel)",
   "language": "python",
   "name": "python3"
  },
  "language_info": {
   "codemirror_mode": {
    "name": "ipython",
    "version": 3
   },
   "file_extension": ".py",
   "mimetype": "text/x-python",
   "name": "python",
   "nbconvert_exporter": "python",
   "pygments_lexer": "ipython3",
   "version": "3.9.7"
  }
 },
 "nbformat": 4,
 "nbformat_minor": 5
}
